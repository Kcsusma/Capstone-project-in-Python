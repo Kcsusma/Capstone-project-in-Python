{
 "cells": [
  {
   "cell_type": "code",
   "execution_count": 9,
   "metadata": {},
   "outputs": [],
   "source": [
    "import numpy as np\n",
    "import pandas as pd\n",
    "\n",
    "# Load the Project DataFrame from the CSV file\n",
    "project_df = pd.read_csv('project.csv')\n",
    "\n",
    "# Replace missing values using a running average\n",
    "cost_sum = 0\n",
    "cost_count = 0\n",
    "\n",
    "for index, row in project_df.iterrows():\n",
    "    if pd.isnull(row['Cost']):\n",
    "        if cost_count > 0:\n",
    "            project_df.at[index, 'Cost'] = cost_sum / cost_count\n",
    "    else:\n",
    "        cost_sum += row['Cost']\n",
    "        cost_count += 1\n",
    "\n",
    "# Save the modified Project DataFrame\n",
    "project_df.to_csv('project.csv', index=False)\n"
   ]
  },
  {
   "cell_type": "code",
   "execution_count": 10,
   "metadata": {},
   "outputs": [
    {
     "data": {
      "text/html": [
       "<div>\n",
       "<style scoped>\n",
       "    .dataframe tbody tr th:only-of-type {\n",
       "        vertical-align: middle;\n",
       "    }\n",
       "\n",
       "    .dataframe tbody tr th {\n",
       "        vertical-align: top;\n",
       "    }\n",
       "\n",
       "    .dataframe thead th {\n",
       "        text-align: right;\n",
       "    }\n",
       "</style>\n",
       "<table border=\"1\" class=\"dataframe\">\n",
       "  <thead>\n",
       "    <tr style=\"text-align: right;\">\n",
       "      <th></th>\n",
       "      <th>ID</th>\n",
       "      <th>Project</th>\n",
       "      <th>Cost</th>\n",
       "      <th>Status</th>\n",
       "    </tr>\n",
       "  </thead>\n",
       "  <tbody>\n",
       "    <tr>\n",
       "      <th>0</th>\n",
       "      <td>A001</td>\n",
       "      <td>Project 1</td>\n",
       "      <td>1002000.0</td>\n",
       "      <td>Finished</td>\n",
       "    </tr>\n",
       "    <tr>\n",
       "      <th>1</th>\n",
       "      <td>A002</td>\n",
       "      <td>Project 2</td>\n",
       "      <td>2000000.0</td>\n",
       "      <td>Ongoing</td>\n",
       "    </tr>\n",
       "    <tr>\n",
       "      <th>2</th>\n",
       "      <td>A003</td>\n",
       "      <td>Project 3</td>\n",
       "      <td>4500000.0</td>\n",
       "      <td>Finished</td>\n",
       "    </tr>\n",
       "    <tr>\n",
       "      <th>3</th>\n",
       "      <td>A004</td>\n",
       "      <td>Project 4</td>\n",
       "      <td>5500000.0</td>\n",
       "      <td>Ongoing</td>\n",
       "    </tr>\n",
       "    <tr>\n",
       "      <th>4</th>\n",
       "      <td>A005</td>\n",
       "      <td>Project 5</td>\n",
       "      <td>3250500.0</td>\n",
       "      <td>Finished</td>\n",
       "    </tr>\n",
       "  </tbody>\n",
       "</table>\n",
       "</div>"
      ],
      "text/plain": [
       "     ID    Project       Cost    Status\n",
       "0  A001  Project 1  1002000.0  Finished\n",
       "1  A002  Project 2  2000000.0   Ongoing\n",
       "2  A003  Project 3  4500000.0  Finished\n",
       "3  A004  Project 4  5500000.0   Ongoing\n",
       "4  A005  Project 5  3250500.0  Finished"
      ]
     },
     "execution_count": 10,
     "metadata": {},
     "output_type": "execute_result"
    }
   ],
   "source": [
    "project_df.head()"
   ]
  },
  {
   "cell_type": "code",
   "execution_count": null,
   "metadata": {},
   "outputs": [],
   "source": []
  }
 ],
 "metadata": {
  "kernelspec": {
   "display_name": "Python 3",
   "language": "python",
   "name": "python3"
  },
  "language_info": {
   "codemirror_mode": {
    "name": "ipython",
    "version": 3
   },
   "file_extension": ".py",
   "mimetype": "text/x-python",
   "name": "python",
   "nbconvert_exporter": "python",
   "pygments_lexer": "ipython3",
   "version": "3.7.6"
  }
 },
 "nbformat": 4,
 "nbformat_minor": 4
}

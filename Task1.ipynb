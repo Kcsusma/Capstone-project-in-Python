{
 "cells": [
  {
   "cell_type": "code",
   "execution_count": 2,
   "metadata": {},
   "outputs": [],
   "source": [
    "import pandas as pd\n",
    "\n",
    "# Project DataFrame\n",
    "project_data = {\n",
    "    'ID': ['A001', 'A002', 'A003', 'A004', 'A005', 'A002', 'A005', 'A003', 'A001', 'A003', 'A001', 'A004', 'A004', 'A005'],\n",
    "    'Project': ['Project 1', 'Project 2', 'Project 3', 'Project 4', 'Project 5', 'Project 6', 'Project 7', 'Project 8', 'Project 9', 'Project 10', 'Project 11', 'Project 12', 'Project 13', 'Project 14'],\n",
    "    'Cost': [1002000, 2000000, 4500000, 5500000, None, 680000, 400000, 350000, None, 300000, 2000000, 1000000, 3000000, 200000],\n",
    "    'Status': ['Finished', 'Ongoing', 'Finished', 'Ongoing', 'Finished', 'Failed', 'Finished', 'Failed', 'Ongoing', 'Finished', 'Failed', 'Ongoing', 'Finished', 'Finished']\n",
    "}\n",
    "\n",
    "project_df = pd.DataFrame(project_data)\n",
    "\n",
    "# Employee DataFrame\n",
    "employee_data = {\n",
    "    'ID': ['A001', 'A002', 'A003', 'A004', 'A005'],\n",
    "    'Name': ['John Alter', 'Alice Luxumberg', 'Tom Sabestine', 'Nina Adgra', 'Amy Johny'],\n",
    "    'Gender': ['M', 'F', 'M', 'F', 'F'],\n",
    "    'City': ['Paris', 'London', 'Berlin', 'Newyork', 'Madrid'],\n",
    "    'Age': [25, 27, 29, 31, 30]\n",
    "}\n",
    "\n",
    "employee_df = pd.DataFrame(employee_data)\n",
    "\n",
    "# Seniority Level DataFrame\n",
    "seniority_data = {\n",
    "    'ID': ['A001', 'A002', 'A003', 'A004', 'A005'],\n",
    "    'Designation Level': [2, 2, 3, 2, 3]\n",
    "}\n",
    "\n",
    "seniority_df = pd.DataFrame(seniority_data)\n",
    "\n",
    "# Save the DataFrames as CSV files\n",
    "project_df.to_csv('project.csv', index=False)\n",
    "employee_df.to_csv('employee.csv', index=False)\n",
    "seniority_df.to_csv('seniority.csv', index=False)\n"
   ]
  },
  {
   "cell_type": "code",
   "execution_count": null,
   "metadata": {},
   "outputs": [],
   "source": []
  }
 ],
 "metadata": {
  "kernelspec": {
   "display_name": "Python 3",
   "language": "python",
   "name": "python3"
  },
  "language_info": {
   "codemirror_mode": {
    "name": "ipython",
    "version": 3
   },
   "file_extension": ".py",
   "mimetype": "text/x-python",
   "name": "python",
   "nbconvert_exporter": "python",
   "pygments_lexer": "ipython3",
   "version": "3.7.6"
  }
 },
 "nbformat": 4,
 "nbformat_minor": 4
}

{
 "cells": [
  {
   "cell_type": "code",
   "execution_count": 10,
   "metadata": {},
   "outputs": [],
   "source": [
    "# Load the Employee DataFrame from the CSV file\n",
    "import numpy as np\n",
    "import pandas as pd\n",
    "\n",
    "employee_df = pd.read_csv('employee.csv')\n",
    "\n",
    "# Split the Name column\n",
    "employee_df[['First Name', 'Last Name']] = employee_df['Name'].str.split(' ', 1, expand=True)\n",
    "employee_df.drop(columns=['Name'], inplace=True)\n",
    "\n",
    "# Save the modified Employee DataFrame\n",
    "employee_df.to_csv('employee.csv', index=False)\n"
   ]
  },
  {
   "cell_type": "code",
   "execution_count": 11,
   "metadata": {},
   "outputs": [
    {
     "data": {
      "text/html": [
       "<div>\n",
       "<style scoped>\n",
       "    .dataframe tbody tr th:only-of-type {\n",
       "        vertical-align: middle;\n",
       "    }\n",
       "\n",
       "    .dataframe tbody tr th {\n",
       "        vertical-align: top;\n",
       "    }\n",
       "\n",
       "    .dataframe thead th {\n",
       "        text-align: right;\n",
       "    }\n",
       "</style>\n",
       "<table border=\"1\" class=\"dataframe\">\n",
       "  <thead>\n",
       "    <tr style=\"text-align: right;\">\n",
       "      <th></th>\n",
       "      <th>ID</th>\n",
       "      <th>Gender</th>\n",
       "      <th>City</th>\n",
       "      <th>Age</th>\n",
       "      <th>First Name</th>\n",
       "      <th>Last Name</th>\n",
       "    </tr>\n",
       "  </thead>\n",
       "  <tbody>\n",
       "    <tr>\n",
       "      <th>0</th>\n",
       "      <td>A001</td>\n",
       "      <td>M</td>\n",
       "      <td>Paris</td>\n",
       "      <td>25</td>\n",
       "      <td>John</td>\n",
       "      <td>Alter</td>\n",
       "    </tr>\n",
       "    <tr>\n",
       "      <th>1</th>\n",
       "      <td>A002</td>\n",
       "      <td>F</td>\n",
       "      <td>London</td>\n",
       "      <td>27</td>\n",
       "      <td>Alice</td>\n",
       "      <td>Luxumberg</td>\n",
       "    </tr>\n",
       "    <tr>\n",
       "      <th>2</th>\n",
       "      <td>A003</td>\n",
       "      <td>M</td>\n",
       "      <td>Berlin</td>\n",
       "      <td>29</td>\n",
       "      <td>Tom</td>\n",
       "      <td>Sabestine</td>\n",
       "    </tr>\n",
       "    <tr>\n",
       "      <th>3</th>\n",
       "      <td>A004</td>\n",
       "      <td>F</td>\n",
       "      <td>Newyork</td>\n",
       "      <td>31</td>\n",
       "      <td>Nina</td>\n",
       "      <td>Adgra</td>\n",
       "    </tr>\n",
       "    <tr>\n",
       "      <th>4</th>\n",
       "      <td>A005</td>\n",
       "      <td>F</td>\n",
       "      <td>Madrid</td>\n",
       "      <td>30</td>\n",
       "      <td>Amy</td>\n",
       "      <td>Johny</td>\n",
       "    </tr>\n",
       "  </tbody>\n",
       "</table>\n",
       "</div>"
      ],
      "text/plain": [
       "     ID Gender     City  Age First Name  Last Name\n",
       "0  A001      M    Paris   25       John      Alter\n",
       "1  A002      F   London   27      Alice  Luxumberg\n",
       "2  A003      M   Berlin   29        Tom  Sabestine\n",
       "3  A004      F  Newyork   31       Nina      Adgra\n",
       "4  A005      F   Madrid   30        Amy      Johny"
      ]
     },
     "execution_count": 11,
     "metadata": {},
     "output_type": "execute_result"
    }
   ],
   "source": [
    "employee_df.head()"
   ]
  },
  {
   "cell_type": "code",
   "execution_count": null,
   "metadata": {},
   "outputs": [],
   "source": []
  }
 ],
 "metadata": {
  "kernelspec": {
   "display_name": "Python 3",
   "language": "python",
   "name": "python3"
  },
  "language_info": {
   "codemirror_mode": {
    "name": "ipython",
    "version": 3
   },
   "file_extension": ".py",
   "mimetype": "text/x-python",
   "name": "python",
   "nbconvert_exporter": "python",
   "pygments_lexer": "ipython3",
   "version": "3.7.6"
  }
 },
 "nbformat": 4,
 "nbformat_minor": 4
}

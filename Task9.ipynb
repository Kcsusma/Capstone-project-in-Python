{
 "cells": [
  {
   "cell_type": "code",
   "execution_count": 12,
   "metadata": {},
   "outputs": [
    {
     "name": "stdout",
     "output_type": "stream",
     "text": [
      "     ID  First Name    Total Cost\n",
      "0  A001    Mr. John  5.063714e+06\n",
      "1  A002  Mrs. Alice  2.680000e+06\n",
      "2  A003     Mr. Tom  5.150000e+06\n",
      "3  A004   Mrs. Nina  9.500000e+06\n",
      "4  A005    Mrs. Amy  3.850500e+06\n"
     ]
    }
   ],
   "source": [
    "import pandas as pd\n",
    "import numpy as np\n",
    "\n",
    "# Load the Final DataFrame from the CSV file\n",
    "final_df = pd.read_csv('final.csv')\n",
    "\n",
    "# Calculate total project cost for each employee\n",
    "total_proj_cost = final_df.groupby(['ID', 'First Name'])['Cost'].sum().reset_index()\n",
    "total_proj_cost.columns = ['ID', 'First Name', 'Total Cost']\n",
    "\n",
    "# Save the TotalProjCost DataFrame\n",
    "total_proj_cost.to_csv('total_proj_cost.csv', index=False)\n",
    "\n",
    "# Print the TotalProjCost DataFrame to verify\n",
    "print(total_proj_cost)\n",
    "\n"
   ]
  },
  {
   "cell_type": "code",
   "execution_count": 13,
   "metadata": {},
   "outputs": [
    {
     "data": {
      "text/html": [
       "<div>\n",
       "<style scoped>\n",
       "    .dataframe tbody tr th:only-of-type {\n",
       "        vertical-align: middle;\n",
       "    }\n",
       "\n",
       "    .dataframe tbody tr th {\n",
       "        vertical-align: top;\n",
       "    }\n",
       "\n",
       "    .dataframe thead th {\n",
       "        text-align: right;\n",
       "    }\n",
       "</style>\n",
       "<table border=\"1\" class=\"dataframe\">\n",
       "  <thead>\n",
       "    <tr style=\"text-align: right;\">\n",
       "      <th></th>\n",
       "      <th>ID</th>\n",
       "      <th>First Name</th>\n",
       "      <th>Total Cost</th>\n",
       "    </tr>\n",
       "  </thead>\n",
       "  <tbody>\n",
       "    <tr>\n",
       "      <th>0</th>\n",
       "      <td>A001</td>\n",
       "      <td>Mr. John</td>\n",
       "      <td>5.063714e+06</td>\n",
       "    </tr>\n",
       "    <tr>\n",
       "      <th>1</th>\n",
       "      <td>A002</td>\n",
       "      <td>Mrs. Alice</td>\n",
       "      <td>2.680000e+06</td>\n",
       "    </tr>\n",
       "    <tr>\n",
       "      <th>2</th>\n",
       "      <td>A003</td>\n",
       "      <td>Mr. Tom</td>\n",
       "      <td>5.150000e+06</td>\n",
       "    </tr>\n",
       "    <tr>\n",
       "      <th>3</th>\n",
       "      <td>A004</td>\n",
       "      <td>Mrs. Nina</td>\n",
       "      <td>9.500000e+06</td>\n",
       "    </tr>\n",
       "    <tr>\n",
       "      <th>4</th>\n",
       "      <td>A005</td>\n",
       "      <td>Mrs. Amy</td>\n",
       "      <td>3.850500e+06</td>\n",
       "    </tr>\n",
       "  </tbody>\n",
       "</table>\n",
       "</div>"
      ],
      "text/plain": [
       "     ID  First Name    Total Cost\n",
       "0  A001    Mr. John  5.063714e+06\n",
       "1  A002  Mrs. Alice  2.680000e+06\n",
       "2  A003     Mr. Tom  5.150000e+06\n",
       "3  A004   Mrs. Nina  9.500000e+06\n",
       "4  A005    Mrs. Amy  3.850500e+06"
      ]
     },
     "execution_count": 13,
     "metadata": {},
     "output_type": "execute_result"
    }
   ],
   "source": [
    "total_proj_cost.head()"
   ]
  },
  {
   "cell_type": "code",
   "execution_count": null,
   "metadata": {},
   "outputs": [],
   "source": []
  },
  {
   "cell_type": "code",
   "execution_count": null,
   "metadata": {},
   "outputs": [],
   "source": []
  }
 ],
 "metadata": {
  "kernelspec": {
   "display_name": "Python 3",
   "language": "python",
   "name": "python3"
  },
  "language_info": {
   "codemirror_mode": {
    "name": "ipython",
    "version": 3
   },
   "file_extension": ".py",
   "mimetype": "text/x-python",
   "name": "python",
   "nbconvert_exporter": "python",
   "pygments_lexer": "ipython3",
   "version": "3.7.6"
  }
 },
 "nbformat": 4,
 "nbformat_minor": 4
}
